{
  "nbformat": 4,
  "nbformat_minor": 0,
  "metadata": {
    "colab": {
      "name": "svg_load_model.ipynb",
      "provenance": [],
      "collapsed_sections": [],
      "toc_visible": true
    },
    "kernelspec": {
      "name": "python3",
      "display_name": "Python 3"
    },
    "language_info": {
      "name": "python"
    },
    "widgets": {
      "application/vnd.jupyter.widget-state+json": {
        "9daf580d601a4dcdb5b0577d9eac1a8b": {
          "model_module": "@jupyter-widgets/controls",
          "model_name": "TextModel",
          "state": {
            "_view_name": "TextView",
            "style": "IPY_MODEL_70ff486d8179412ca1fc794825ea79c2",
            "_dom_classes": [],
            "description": "Input:",
            "_model_name": "TextModel",
            "placeholder": "Press enter to evaluate",
            "_view_module": "@jupyter-widgets/controls",
            "_model_module_version": "1.5.0",
            "value": "",
            "_view_count": null,
            "disabled": false,
            "_view_module_version": "1.5.0",
            "continuous_update": true,
            "description_tooltip": null,
            "_model_module": "@jupyter-widgets/controls",
            "layout": "IPY_MODEL_6adadd2eb83241a1be9a868dd116f877"
          }
        },
        "70ff486d8179412ca1fc794825ea79c2": {
          "model_module": "@jupyter-widgets/controls",
          "model_name": "DescriptionStyleModel",
          "state": {
            "_view_name": "StyleView",
            "_model_name": "DescriptionStyleModel",
            "description_width": "",
            "_view_module": "@jupyter-widgets/base",
            "_model_module_version": "1.5.0",
            "_view_count": null,
            "_view_module_version": "1.2.0",
            "_model_module": "@jupyter-widgets/controls"
          }
        },
        "6adadd2eb83241a1be9a868dd116f877": {
          "model_module": "@jupyter-widgets/base",
          "model_name": "LayoutModel",
          "state": {
            "_view_name": "LayoutView",
            "grid_template_rows": null,
            "right": null,
            "justify_content": null,
            "_view_module": "@jupyter-widgets/base",
            "overflow": null,
            "_model_module_version": "1.2.0",
            "_view_count": null,
            "flex_flow": null,
            "width": "auto",
            "min_width": null,
            "border": null,
            "align_items": null,
            "bottom": null,
            "_model_module": "@jupyter-widgets/base",
            "top": null,
            "grid_column": null,
            "overflow_y": null,
            "overflow_x": null,
            "grid_auto_flow": null,
            "grid_area": null,
            "grid_template_columns": null,
            "flex": null,
            "_model_name": "LayoutModel",
            "justify_items": null,
            "grid_row": null,
            "max_height": null,
            "align_content": null,
            "visibility": null,
            "align_self": null,
            "height": "40px",
            "min_height": null,
            "padding": null,
            "grid_auto_rows": null,
            "grid_gap": null,
            "max_width": null,
            "order": null,
            "_view_module_version": "1.2.0",
            "grid_template_areas": null,
            "object_position": null,
            "object_fit": null,
            "grid_auto_columns": null,
            "margin": null,
            "display": null,
            "left": null
          }
        }
      }
    }
  },
  "cells": [
    {
      "cell_type": "code",
      "metadata": {
        "id": "7kVOwZXdzx04"
      },
      "source": [
        "import tensorflow as tf\n",
        "from tensorflow import keras\n",
        "from tensorflow.keras.layers.experimental import preprocessing\n",
        "import pickle\n",
        "\n",
        "import svg_generator # Custom .py file"
      ],
      "execution_count": 19,
      "outputs": []
    },
    {
      "cell_type": "code",
      "metadata": {
        "id": "O5sXEgPjz-SH"
      },
      "source": [
        "def create_generator(model_path, vectorizer_path):\n",
        "  def load_text_vectorization(path):\n",
        "    from_disk = pickle.load(open(path, 'rb'))\n",
        "    vectorize_layer = preprocessing.TextVectorization.from_config(from_disk['config'])\n",
        "    vectorize_layer.set_weights(from_disk['weights'])\n",
        "\n",
        "    return vectorize_layer\n",
        "\n",
        "  loaded_model = keras.models.load_model(model_path)\n",
        "\n",
        "  vectorizer = load_text_vectorization(vectorizer_path)\n",
        "  vocabulary = vectorizer.get_vocabulary()\n",
        "  output_sequence_length = vectorizer._output_sequence_length - 1\n",
        "\n",
        "  return svg_generator.TextGenerator(loaded_model, vocabulary, output_sequence_length)\n",
        "\n",
        "generators = [create_generator('drive/MyDrive/svg/model_2_08-06_12-52', 'drive/MyDrive/svg/vectorize_layer_0_08-06_09-05')]\n",
        "\n",
        "def generate(prompt):\n",
        "  for generator in generators:\n",
        "    generator.generate(prompt)"
      ],
      "execution_count": 20,
      "outputs": []
    },
    {
      "cell_type": "code",
      "metadata": {
        "colab": {
          "base_uri": "https://localhost:8080/",
          "height": 1000
        },
        "id": "aUCBwpZIkwO6",
        "outputId": "2311d89b-94ad-4096-d650-1932e477ca77"
      },
      "source": [
        "prompts = ['purple large circle in center and green medium circle in front and blue tiny circle in front green medium circle',\n",
        "           'red small rectangle in center left, green medium rectangle to right, blue large rectangle to right',\n",
        "           'purple x rectangle in top',\n",
        "           'x x circle in top right',\n",
        "           'red average rectangle in center, blue small circle in center and purple tiny rectangle in front',\n",
        "           'red average rectangle in left, blue small circle in left and purple tiny rectangle in front',\n",
        "           'red small rectangle in center left, green medium rectangle to right, blue large rectangle to right and tiny purple circle in front blue large rectangle',\n",
        "           'tiny yellow rectangle in left and cyan little circle to right tiny yellow rectangle and green tiny circle in front cyan little circle and red tiny circle in front',\n",
        "           'cyan small rectangle in middle , gray little rectangle below , big yellow rectangle above cyan small rectangle , medium orange circle in front gray little rectangle',\n",
        "           'medium yellow rectangle in right and small red rectangle below medium yellow rectangle , average orange rectangle behind medium yellow rectangle , pink huge rectangle behind small red rectangle'\n",
        "           ]\n",
        "\n",
        "for prompt in prompts:\n",
        "  generate(prompt)\n",
        "  print('#' * 200)"
      ],
      "execution_count": 23,
      "outputs": [
        {
          "output_type": "stream",
          "text": [
            "Generated text:\n",
            "# purple large circle in center and green medium circle in front and blue tiny circle in front green medium circle $ <circle cx = \" 94 \" cy = \" -107 \" r = \" 4 \" fill = \" rgb( 0 , 0 , 255 ) \" stroke-width = \" 2 \" /> <circle cx = \" 94 \" cy = \" -107 \" r = \" 29 \" fill = \" rgb( 0 , 255 , 0 ) \" stroke-width = \" 1 \" /> <circle cx = \" 94 \" cy = \" -107 \" r = \" 51 \" fill = \" rgb( 113 , 0 , 132 ) \" stroke-width = \" 0 \" /> % <circle cx = \" 94 \" cy = \" -107 \" r = \" 4 \" fill = \" rgb( 0 , 0 , 255 ) \" stroke-width = \" 2 \" /> <circle cx = \" 94 \" cy = \" -107 \" r = \" 29 \" fill = \" rgb( 0 , 255 , 0 ) \" stroke-width = \" 1 \" /> <circle cx = \" 94 \" cy = \" -107 \" r = \" 51 \" fill = \" rgb( 113 , 0 , 132 ) \" stroke-width = \" 0 \" /> %\n",
            "\n",
            "Code:  <circle cx = \" 94 \" cy = \" -107 \" r = \" 4 \" fill = \" rgb( 0 , 0 , 255)\" stroke-width = \" 2 \" /> <circle cx = \" 94 \" cy = \" -107 \" r = \" 29 \" fill = \" rgb( 0 , 255 , 0)\" stroke-width = \" 1 \" /> <circle cx = \" 94 \" cy = \" -107 \" r = \" 51 \" fill = \" rgb( 113 , 0 , 132)\" stroke-width = \" 0 \" />\n"
          ],
          "name": "stdout"
        },
        {
          "output_type": "display_data",
          "data": {
            "text/plain": [
              "<IPython.core.display.SVG object>"
            ],
            "image/svg+xml": "<svg height=\"200\" viewBox=\"0 -200 200 200\" width=\"200\" xmlns=\"http://www.w3.org/2000/svg\" xmlns:xlink=\"http://www.w3.org/1999/xlink\">\n      <rect fill=\"white\" height=\"200\" stroke=\"black\" stroke-width=\"2\" width=\"200\" x=\"0\" y=\"-200\"/>\n      <circle cx=\" 94 \" cy=\" -107 \" fill=\" rgb( 113 , 0 , 132)\" r=\" 51 \" stroke-width=\" 0 \"/><circle cx=\" 94 \" cy=\" -107 \" fill=\" rgb( 0 , 255 , 0)\" r=\" 29 \" stroke-width=\" 1 \"/><circle cx=\" 94 \" cy=\" -107 \" fill=\" rgb( 0 , 0 , 255)\" r=\" 4 \" stroke-width=\" 2 \"/>\n      </svg>"
          },
          "metadata": {
            "tags": []
          }
        },
        {
          "output_type": "stream",
          "text": [
            "########################################################################################################################################################################################################\n",
            "Generated text:\n",
            "# red small rectangle in center left , green medium rectangle to right , blue large rectangle to right $ <rect x = \" 149 \" y = \" -151 \" width = \" 102 \" height = \" 96 \" fill = \" rgb( 0 , 0 , 255 ) \" stroke-width = \" 0 \" /> <rect x = \" 91 \" y = \" -132 \" width = \" 56 \" height = \" 61 \" fill = \" rgb( 0 , 255 , 0 ) \" stroke-width = \" 0 \" /> <rect x = \" 27 \" y = \" -111 \" width = \" 20 \" height = \" 20 \" fill = \" rgb( 255 , 0 , 0 ) \" stroke-width = \" 0 \" /> % <rect x = \" 149 \" y = \" -151 \" width = \" 102 \" height = \" 96 \" fill = \" rgb( 0 , 0 , 255 ) \" stroke-width = \" 0 \" /> <rect x = \" 91 \" y = \" -132 \" width = \" 56 \" height = \" 61 \" fill = \" rgb( 0 , 255 , 0 ) \" stroke-width = \" 0 \" /> <rect x = \" 27 \" y = \" -111 \" width = \" 20 \" height = \" 20 \" fill = \" rgb( 255 , 0 , 0 ) \" stroke-width = \" 0 \" /> %\n",
            "\n",
            "Code:  <rect x = \" 149 \" y = \" -151 \" width = \" 102 \" height = \" 96 \" fill = \" rgb( 0 , 0 , 255)\" stroke-width = \" 0 \" /> <rect x = \" 91 \" y = \" -132 \" width = \" 56 \" height = \" 61 \" fill = \" rgb( 0 , 255 , 0)\" stroke-width = \" 0 \" /> <rect x = \" 27 \" y = \" -111 \" width = \" 20 \" height = \" 20 \" fill = \" rgb( 255 , 0 , 0)\" stroke-width = \" 0 \" />\n"
          ],
          "name": "stdout"
        },
        {
          "output_type": "display_data",
          "data": {
            "text/plain": [
              "<IPython.core.display.SVG object>"
            ],
            "image/svg+xml": "<svg height=\"200\" viewBox=\"0 -200 200 200\" width=\"200\" xmlns=\"http://www.w3.org/2000/svg\" xmlns:xlink=\"http://www.w3.org/1999/xlink\">\n      <rect fill=\"white\" height=\"200\" stroke=\"black\" stroke-width=\"2\" width=\"200\" x=\"0\" y=\"-200\"/>\n      <rect fill=\" rgb( 0 , 0 , 255)\" height=\" 96 \" stroke-width=\" 0 \" width=\" 102 \" x=\" 149 \" y=\" -151 \"/><rect fill=\" rgb( 255 , 0 , 0)\" height=\" 20 \" stroke-width=\" 0 \" width=\" 20 \" x=\" 27 \" y=\" -111 \"/><rect fill=\" rgb( 0 , 255 , 0)\" height=\" 61 \" stroke-width=\" 0 \" width=\" 56 \" x=\" 91 \" y=\" -132 \"/>\n      </svg>"
          },
          "metadata": {
            "tags": []
          }
        },
        {
          "output_type": "stream",
          "text": [
            "########################################################################################################################################################################################################\n",
            "Generated text:\n",
            "# purple x rectangle in top $ <rect x = \" 80 \" y = \" -192 \" width = \" 56 \" height = \" 63 \" fill = \" rgb( 113 , 0 , 132 ) \" stroke-width = \" 0 \" /> % <rect x = \" 80 \" y = \" -192 \" width = \" 56 \" height = \" 63 \" fill = \" rgb( 113 , 0 , 132 ) \" stroke-width = \" 0 \" /> %\n",
            "\n",
            "Code:  <rect x = \" 80 \" y = \" -192 \" width = \" 56 \" height = \" 63 \" fill = \" rgb( 113 , 0 , 132)\" stroke-width = \" 0 \" />\n"
          ],
          "name": "stdout"
        },
        {
          "output_type": "display_data",
          "data": {
            "text/plain": [
              "<IPython.core.display.SVG object>"
            ],
            "image/svg+xml": "<svg height=\"200\" viewBox=\"0 -200 200 200\" width=\"200\" xmlns=\"http://www.w3.org/2000/svg\" xmlns:xlink=\"http://www.w3.org/1999/xlink\">\n      <rect fill=\"white\" height=\"200\" stroke=\"black\" stroke-width=\"2\" width=\"200\" x=\"0\" y=\"-200\"/>\n      <rect fill=\" rgb( 113 , 0 , 132)\" height=\" 63 \" stroke-width=\" 0 \" width=\" 56 \" x=\" 80 \" y=\" -192 \"/>\n      </svg>"
          },
          "metadata": {
            "tags": []
          }
        },
        {
          "output_type": "stream",
          "text": [
            "########################################################################################################################################################################################################\n",
            "Generated text:\n",
            "# x x circle in top right $ <circle cx = \" 177 \" cy = \" -176 \" r = \" 51 \" fill = \" rgb( 255 , gray rgb( 255 , 0 ) \" stroke-width = \" 0 \" /> % <circle cx = \" 177 \" cy = \" -176 \" r = \" 51 \" fill = \" rgb( 255 , gray rgb( 255 , 0 ) \" stroke-width = \" 0 \" /> %\n",
            "\n",
            "Code:  <circle cx = \" 177 \" cy = \" -176 \" r = \" 51 \" fill = \" rgb( 255 , gray rgb( 255 , 0)\" stroke-width = \" 0 \" />\n"
          ],
          "name": "stdout"
        },
        {
          "output_type": "display_data",
          "data": {
            "text/plain": [
              "<IPython.core.display.SVG object>"
            ],
            "image/svg+xml": "<svg height=\"200\" viewBox=\"0 -200 200 200\" width=\"200\" xmlns=\"http://www.w3.org/2000/svg\" xmlns:xlink=\"http://www.w3.org/1999/xlink\">\n      <rect fill=\"white\" height=\"200\" stroke=\"black\" stroke-width=\"2\" width=\"200\" x=\"0\" y=\"-200\"/>\n      <circle cx=\" 177 \" cy=\" -176 \" fill=\" rgb( 255 , gray rgb( 255 , 0)\" r=\" 51 \" stroke-width=\" 0 \"/>\n      </svg>"
          },
          "metadata": {
            "tags": []
          }
        },
        {
          "output_type": "stream",
          "text": [
            "########################################################################################################################################################################################################\n",
            "Generated text:\n",
            "# red average rectangle in center , blue small circle in center and purple tiny rectangle in front $ <rect x = \" 92 \" y = \" -103 \" width = \" 10 \" height = \" 10 \" fill = \" rgb( 113 , 0 , 113 ) \" stroke-width = \" 2 \" /> <circle cx = \" 97 \" cy = \" -98 \" r = \" 8 \" fill = \" rgb( 0 , 0 , 255 ) \" stroke-width = \" 1 \" /> <rect x = \" 66 \" y = \" -128 \" width = \" 63 \" height = \" 60 \" fill = \" rgb( 255 , 0 , 0 ) \" stroke-width = \" 0 \" /> % <rect x = \" 92 \" y = \" -103 \" width = \" 10 \" height = \" 10 \" fill = \" rgb( 113 , 0 , 113 ) \" stroke-width = \" 2 \" /> <circle cx = \" 97 \" cy = \" -98 \" r = \" 8 \" fill = \" rgb( 0 , 0 , 255 ) \" stroke-width = \" 1 \" /> <rect x = \" 66 \" y = \" -128 \" width = \" 63 \" height = \" 60 \" fill = \" rgb( 255 , 0 , 0 ) \" stroke-width = \" 0 \" /> %\n",
            "\n",
            "Code:  <rect x = \" 92 \" y = \" -103 \" width = \" 10 \" height = \" 10 \" fill = \" rgb( 113 , 0 , 113)\" stroke-width = \" 2 \" /> <circle cx = \" 97 \" cy = \" -98 \" r = \" 8 \" fill = \" rgb( 0 , 0 , 255)\" stroke-width = \" 1 \" /> <rect x = \" 66 \" y = \" -128 \" width = \" 63 \" height = \" 60 \" fill = \" rgb( 255 , 0 , 0)\" stroke-width = \" 0 \" />\n"
          ],
          "name": "stdout"
        },
        {
          "output_type": "display_data",
          "data": {
            "text/plain": [
              "<IPython.core.display.SVG object>"
            ],
            "image/svg+xml": "<svg height=\"200\" viewBox=\"0 -200 200 200\" width=\"200\" xmlns=\"http://www.w3.org/2000/svg\" xmlns:xlink=\"http://www.w3.org/1999/xlink\">\n      <rect fill=\"white\" height=\"200\" stroke=\"black\" stroke-width=\"2\" width=\"200\" x=\"0\" y=\"-200\"/>\n      <rect fill=\" rgb( 255 , 0 , 0)\" height=\" 60 \" stroke-width=\" 0 \" width=\" 63 \" x=\" 66 \" y=\" -128 \"/><circle cx=\" 97 \" cy=\" -98 \" fill=\" rgb( 0 , 0 , 255)\" r=\" 8 \" stroke-width=\" 1 \"/><rect fill=\" rgb( 113 , 0 , 113)\" height=\" 10 \" stroke-width=\" 2 \" width=\" 10 \" x=\" 92 \" y=\" -103 \"/>\n      </svg>"
          },
          "metadata": {
            "tags": []
          }
        },
        {
          "output_type": "stream",
          "text": [
            "########################################################################################################################################################################################################\n",
            "Generated text:\n",
            "# red average rectangle in left , blue small circle in left and purple tiny rectangle in front $ <rect x = \" 30 \" y = \" -103 \" width = \" 6 \" height = \" 10 \" fill = \" rgb( 113 , 0 , 113 ) \" stroke-width = \" 2 \" /> <circle cx = \" 33 \" cy = \" -98 \" r = \" 8 \" fill = \" rgb( 0 , 0 , 255 ) \" stroke-width = \" 1 \" /> <rect x = \" 2 \" y = \" -125 \" width = \" 61 \" height = \" 56 \" fill = \" rgb( 255 , 0 , 0 ) \" stroke-width = \" 0 \" /> % <rect x = \" 30 \" y = \" -103 \" width = \" 6 \" height = \" 10 \" fill = \" rgb( 113 , 0 , 113 ) \" stroke-width = \" 2 \" /> <circle cx = \" 33 \" cy = \" -98 \" r = \" 8 \" fill = \" rgb( 0 , 0 , 255 ) \" stroke-width = \" 1 \" /> <rect x = \" 2 \" y = \" -125 \" width = \" 61 \" height = \" 56 \" fill = \" rgb( 255 , 0 , 0 ) \" stroke-width = \" 0 \" /> %\n",
            "\n",
            "Code:  <rect x = \" 30 \" y = \" -103 \" width = \" 6 \" height = \" 10 \" fill = \" rgb( 113 , 0 , 113)\" stroke-width = \" 2 \" /> <circle cx = \" 33 \" cy = \" -98 \" r = \" 8 \" fill = \" rgb( 0 , 0 , 255)\" stroke-width = \" 1 \" /> <rect x = \" 2 \" y = \" -125 \" width = \" 61 \" height = \" 56 \" fill = \" rgb( 255 , 0 , 0)\" stroke-width = \" 0 \" />\n"
          ],
          "name": "stdout"
        },
        {
          "output_type": "display_data",
          "data": {
            "text/plain": [
              "<IPython.core.display.SVG object>"
            ],
            "image/svg+xml": "<svg height=\"200\" viewBox=\"0 -200 200 200\" width=\"200\" xmlns=\"http://www.w3.org/2000/svg\" xmlns:xlink=\"http://www.w3.org/1999/xlink\">\n      <rect fill=\"white\" height=\"200\" stroke=\"black\" stroke-width=\"2\" width=\"200\" x=\"0\" y=\"-200\"/>\n      <rect fill=\" rgb( 255 , 0 , 0)\" height=\" 56 \" stroke-width=\" 0 \" width=\" 61 \" x=\" 2 \" y=\" -125 \"/><circle cx=\" 33 \" cy=\" -98 \" fill=\" rgb( 0 , 0 , 255)\" r=\" 8 \" stroke-width=\" 1 \"/><rect fill=\" rgb( 113 , 0 , 113)\" height=\" 10 \" stroke-width=\" 2 \" width=\" 6 \" x=\" 30 \" y=\" -103 \"/>\n      </svg>"
          },
          "metadata": {
            "tags": []
          }
        },
        {
          "output_type": "stream",
          "text": [
            "########################################################################################################################################################################################################\n",
            "Generated text:\n",
            "# red small rectangle in center left , green medium rectangle to right , blue large rectangle to right and tiny purple circle in front blue large rectangle $ <circle cx = \" 200 \" cy = \" -100 \" r = \" 4 \" fill = \" rgb( 132 , 0 , 132 ) \" stroke-width = \" 1 \" /> <rect x = \" 149 \" y = \" -151 \" width = \" 102 \" height = \" 101 \" fill = \" rgb( 0 , 0 , 255 ) \" stroke-width = \" 0 \" /> <rect x = \" 170 \" y = \" -129 \" width = \" 60 \" height = \" 58 \" fill = \" rgb( 0 , 255 , 0 ) \" stroke-width = \" 0 \" /> <rect x = \" 27 \" y = \" -109 \" width = \" 20 \" height = \" 17 \" fill = \" rgb( 255 , 0 , 0 ) \" stroke-width = \" 0 \" /> % <circle cx = \" 200 \" cy = \" -100 \" r = \" 4 \" fill = \" rgb( 132 , 0 , 132 ) \" stroke-width = \" 1 \" /> <rect x = \" 149 \" y = \" -151 \" width = \" 102 \" height = \" 101 \" fill = \" rgb( 0 , 0 , 255 ) \" stroke-width = \" 0 \" /> <rect x = \" 170 \" y = \" -129 \" width = \" 60 \" height = \" 58 \" fill = \" rgb( 0 , 255 , 0 ) \" stroke-width = \" 0 \" /> <rect x = \" 27 \" y = \" -109 \" width = \" 20 \" height = \" 17 \" fill = \" rgb( 255 , 0 , 0 ) \" stroke-width = \" 0 \" /> %\n",
            "\n",
            "Code:  <circle cx = \" 200 \" cy = \" -100 \" r = \" 4 \" fill = \" rgb( 132 , 0 , 132)\" stroke-width = \" 1 \" /> <rect x = \" 149 \" y = \" -151 \" width = \" 102 \" height = \" 101 \" fill = \" rgb( 0 , 0 , 255)\" stroke-width = \" 0 \" /> <rect x = \" 170 \" y = \" -129 \" width = \" 60 \" height = \" 58 \" fill = \" rgb( 0 , 255 , 0)\" stroke-width = \" 0 \" /> <rect x = \" 27 \" y = \" -109 \" width = \" 20 \" height = \" 17 \" fill = \" rgb( 255 , 0 , 0)\" stroke-width = \" 0 \" />\n"
          ],
          "name": "stdout"
        },
        {
          "output_type": "display_data",
          "data": {
            "text/plain": [
              "<IPython.core.display.SVG object>"
            ],
            "image/svg+xml": "<svg height=\"200\" viewBox=\"0 -200 200 200\" width=\"200\" xmlns=\"http://www.w3.org/2000/svg\" xmlns:xlink=\"http://www.w3.org/1999/xlink\">\n      <rect fill=\"white\" height=\"200\" stroke=\"black\" stroke-width=\"2\" width=\"200\" x=\"0\" y=\"-200\"/>\n      <rect fill=\" rgb( 0 , 0 , 255)\" height=\" 101 \" stroke-width=\" 0 \" width=\" 102 \" x=\" 149 \" y=\" -151 \"/><rect fill=\" rgb( 0 , 255 , 0)\" height=\" 58 \" stroke-width=\" 0 \" width=\" 60 \" x=\" 170 \" y=\" -129 \"/><rect fill=\" rgb( 255 , 0 , 0)\" height=\" 17 \" stroke-width=\" 0 \" width=\" 20 \" x=\" 27 \" y=\" -109 \"/><circle cx=\" 200 \" cy=\" -100 \" fill=\" rgb( 132 , 0 , 132)\" r=\" 4 \" stroke-width=\" 1 \"/>\n      </svg>"
          },
          "metadata": {
            "tags": []
          }
        },
        {
          "output_type": "stream",
          "text": [
            "########################################################################################################################################################################################################\n",
            "Generated text:\n",
            "# tiny yellow rectangle in left and cyan little circle to right tiny yellow rectangle and green tiny circle in front cyan little circle and red tiny circle in front $ <circle cx = \" 132 \" cy = \" -101 \" r = \" 4 \" fill = \" rgb( 255 , 0 , 0 ) \" stroke-width = \" 2 \" /> <circle cx = \" 132 \" cy = \" -101 \" r = \" 4 \" fill = \" rgb( 0 , 255 , 0 ) \" stroke-width = \" 1 \" /> <circle cx = \" 132 \" cy = \" -101 \" r = \" 8 \" fill = \" rgb( 0 , 255 , 255 ) \" stroke-width = \" 0 \" /> <rect x = \" 32 \" y = \" -103 \" width = \" 10 \" height = \" 6 \" fill = \" rgb( 255 , 255 , 0 ) \" stroke-width = \" 0 \" /> % <circle cx = \" 132 \" cy = \" -101 \" r = \" 4 \" fill = \" rgb( 255 , 0 , 0 ) \" stroke-width = \" 2 \" /> <circle cx = \" 132 \" cy = \" -101 \" r = \" 4 \" fill = \" rgb( 0 , 255 , 0 ) \" stroke-width = \" 1 \" /> <circle cx = \" 132 \" cy = \" -101 \" r = \" 8 \" fill = \" rgb( 0 , 255 , 255 ) \" stroke-width = \" 0 \" /> <rect x = \" 32 \" y = \" -103 \" width = \" 10 \" height = \" 6 \" fill = \" rgb( 255 , 255 , 0 ) \" stroke-width = \" 0 \" /> %\n",
            "\n",
            "Code:  <circle cx = \" 132 \" cy = \" -101 \" r = \" 4 \" fill = \" rgb( 255 , 0 , 0)\" stroke-width = \" 2 \" /> <circle cx = \" 132 \" cy = \" -101 \" r = \" 4 \" fill = \" rgb( 0 , 255 , 0)\" stroke-width = \" 1 \" /> <circle cx = \" 132 \" cy = \" -101 \" r = \" 8 \" fill = \" rgb( 0 , 255 , 255)\" stroke-width = \" 0 \" /> <rect x = \" 32 \" y = \" -103 \" width = \" 10 \" height = \" 6 \" fill = \" rgb( 255 , 255 , 0)\" stroke-width = \" 0 \" />\n"
          ],
          "name": "stdout"
        },
        {
          "output_type": "display_data",
          "data": {
            "text/plain": [
              "<IPython.core.display.SVG object>"
            ],
            "image/svg+xml": "<svg height=\"200\" viewBox=\"0 -200 200 200\" width=\"200\" xmlns=\"http://www.w3.org/2000/svg\" xmlns:xlink=\"http://www.w3.org/1999/xlink\">\n      <rect fill=\"white\" height=\"200\" stroke=\"black\" stroke-width=\"2\" width=\"200\" x=\"0\" y=\"-200\"/>\n      <circle cx=\" 132 \" cy=\" -101 \" fill=\" rgb( 0 , 255 , 255)\" r=\" 8 \" stroke-width=\" 0 \"/><rect fill=\" rgb( 255 , 255 , 0)\" height=\" 6 \" stroke-width=\" 0 \" width=\" 10 \" x=\" 32 \" y=\" -103 \"/><circle cx=\" 132 \" cy=\" -101 \" fill=\" rgb( 0 , 255 , 0)\" r=\" 4 \" stroke-width=\" 1 \"/><circle cx=\" 132 \" cy=\" -101 \" fill=\" rgb( 255 , 0 , 0)\" r=\" 4 \" stroke-width=\" 2 \"/>\n      </svg>"
          },
          "metadata": {
            "tags": []
          }
        },
        {
          "output_type": "stream",
          "text": [
            "########################################################################################################################################################################################################\n",
            "Generated text:\n",
            "# cyan small rectangle in middle , gray little rectangle below , big yellow rectangle above cyan small rectangle , medium orange circle in front gray little rectangle $ <circle cx = \" 96 \" cy = \" -38 \" r = \" 29 \" fill = \" rgb( 255 , 150 , 0 ) \" stroke-width = \" 1 \" /> <rect x = \" 47 \" y = \" -225 \" width = \" 96 \" height = \" 103 \" fill = \" rgb( 255 , 255 , 0 ) \" stroke-width = \" 0 \" /> <rect x = \" 87 \" y = \" -47 \" width = \" 18 \" height = \" 17 \" fill = \" rgb( 113 , 113 , 113 ) \" stroke-width = \" 0 \" /> <rect x = \" 92 \" y = \" -116 \" width = \" 20 \" height = \" 20 \" fill = \" rgb( 0 , 255 , 255 ) \" stroke-width = \" 0 \" /> % <circle cx = \" 96 \" cy = \" -38 \" r = \" 29 \" fill = \" rgb( 255 , 150 , 0 ) \" stroke-width = \" 1 \" /> <rect x = \" 47 \" y = \" -225 \" width = \" 96 \" height = \" 103 \" fill = \" rgb( 255 , 255 , 0 ) \" stroke-width = \" 0 \" /> <rect x = \" 87 \" y = \" -47 \" width = \" 18 \" height = \" 17 \" fill = \" rgb( 113 , 113 , 113 ) \" stroke-width = \" 0 \" /> <rect x = \" 92 \" y = \" -116 \" width = \" 20 \" height = \" 20 \" fill = \" rgb( 0 , 255 , 255 ) \" stroke-width = \" 0 \" /> %\n",
            "\n",
            "Code:  <circle cx = \" 96 \" cy = \" -38 \" r = \" 29 \" fill = \" rgb( 255 , 150 , 0)\" stroke-width = \" 1 \" /> <rect x = \" 47 \" y = \" -225 \" width = \" 96 \" height = \" 103 \" fill = \" rgb( 255 , 255 , 0)\" stroke-width = \" 0 \" /> <rect x = \" 87 \" y = \" -47 \" width = \" 18 \" height = \" 17 \" fill = \" rgb( 113 , 113 , 113)\" stroke-width = \" 0 \" /> <rect x = \" 92 \" y = \" -116 \" width = \" 20 \" height = \" 20 \" fill = \" rgb( 0 , 255 , 255)\" stroke-width = \" 0 \" />\n"
          ],
          "name": "stdout"
        },
        {
          "output_type": "display_data",
          "data": {
            "text/plain": [
              "<IPython.core.display.SVG object>"
            ],
            "image/svg+xml": "<svg height=\"200\" viewBox=\"0 -200 200 200\" width=\"200\" xmlns=\"http://www.w3.org/2000/svg\" xmlns:xlink=\"http://www.w3.org/1999/xlink\">\n      <rect fill=\"white\" height=\"200\" stroke=\"black\" stroke-width=\"2\" width=\"200\" x=\"0\" y=\"-200\"/>\n      <rect fill=\" rgb( 255 , 255 , 0)\" height=\" 103 \" stroke-width=\" 0 \" width=\" 96 \" x=\" 47 \" y=\" -225 \"/><rect fill=\" rgb( 113 , 113 , 113)\" height=\" 17 \" stroke-width=\" 0 \" width=\" 18 \" x=\" 87 \" y=\" -47 \"/><rect fill=\" rgb( 0 , 255 , 255)\" height=\" 20 \" stroke-width=\" 0 \" width=\" 20 \" x=\" 92 \" y=\" -116 \"/><circle cx=\" 96 \" cy=\" -38 \" fill=\" rgb( 255 , 150 , 0)\" r=\" 29 \" stroke-width=\" 1 \"/>\n      </svg>"
          },
          "metadata": {
            "tags": []
          }
        },
        {
          "output_type": "stream",
          "text": [
            "########################################################################################################################################################################################################\n",
            "Generated text:\n",
            "# medium yellow rectangle in right and small red rectangle below medium yellow rectangle , average orange rectangle behind medium yellow rectangle , pink huge rectangle behind small red rectangle $ <rect x = \" 124 \" y = \" -90 \" width = \" 96 \" height = \" 96 \" fill = \" rgb( 255 , 0 , 255 ) \" stroke-width = \" -2 \" /> <rect x = \" 144 \" y = \" -136 \" width = \" 56 \" height = \" 56 \" fill = \" rgb( 255 , 150 , 0 ) \" stroke-width = \" -1 \" /> <rect x = \" 160 \" y = \" -49 \" width = \" 17 \" height = \" 20 \" fill = \" rgb( 255 , 0 , 0 ) \" stroke-width = \" 0 \" /> <rect x = \" 143 \" y = \" -139 \" width = \" 59 \" height = \" 61 \" fill = \" rgb( 255 , 255 , 0 ) \" stroke-width = \" 0 \" /> % <rect x = \" 124 \" y = \" -90 \" width = \" 96 \" height = \" 96 \" fill = \" rgb( 255 , 0 , 255 ) \" stroke-width = \" -2 \" /> <rect x = \" 144 \" y = \" -136 \" width = \" 56 \" height = \" 56 \" fill = \" rgb( 255 , 150 , 0 ) \" stroke-width = \" -1 \" /> <rect x = \" 160 \" y = \" -49 \" width = \" 17 \" height = \" 20 \" fill = \" rgb( 255 , 0 , 0 ) \" stroke-width = \" 0 \" /> <rect x = \" 143 \" y = \" -139 \" width = \" 59 \" height = \" 61 \" fill = \" rgb( 255 , 255 , 0 ) \" stroke-width = \" 0 \" /> %\n",
            "\n",
            "Code:  <rect x = \" 124 \" y = \" -90 \" width = \" 96 \" height = \" 96 \" fill = \" rgb( 255 , 0 , 255)\" stroke-width = \" -2 \" /> <rect x = \" 144 \" y = \" -136 \" width = \" 56 \" height = \" 56 \" fill = \" rgb( 255 , 150 , 0)\" stroke-width = \" -1 \" /> <rect x = \" 160 \" y = \" -49 \" width = \" 17 \" height = \" 20 \" fill = \" rgb( 255 , 0 , 0)\" stroke-width = \" 0 \" /> <rect x = \" 143 \" y = \" -139 \" width = \" 59 \" height = \" 61 \" fill = \" rgb( 255 , 255 , 0)\" stroke-width = \" 0 \" />\n"
          ],
          "name": "stdout"
        },
        {
          "output_type": "display_data",
          "data": {
            "text/plain": [
              "<IPython.core.display.SVG object>"
            ],
            "image/svg+xml": "<svg height=\"200\" viewBox=\"0 -200 200 200\" width=\"200\" xmlns=\"http://www.w3.org/2000/svg\" xmlns:xlink=\"http://www.w3.org/1999/xlink\">\n      <rect fill=\"white\" height=\"200\" stroke=\"black\" stroke-width=\"2\" width=\"200\" x=\"0\" y=\"-200\"/>\n      <rect fill=\" rgb( 255 , 0 , 255)\" height=\" 96 \" stroke-width=\" -2 \" width=\" 96 \" x=\" 124 \" y=\" -90 \"/><rect fill=\" rgb( 255 , 150 , 0)\" height=\" 56 \" stroke-width=\" -1 \" width=\" 56 \" x=\" 144 \" y=\" -136 \"/><rect fill=\" rgb( 255 , 255 , 0)\" height=\" 61 \" stroke-width=\" 0 \" width=\" 59 \" x=\" 143 \" y=\" -139 \"/><rect fill=\" rgb( 255 , 0 , 0)\" height=\" 20 \" stroke-width=\" 0 \" width=\" 17 \" x=\" 160 \" y=\" -49 \"/>\n      </svg>"
          },
          "metadata": {
            "tags": []
          }
        },
        {
          "output_type": "stream",
          "text": [
            "########################################################################################################################################################################################################\n"
          ],
          "name": "stdout"
        }
      ]
    },
    {
      "cell_type": "markdown",
      "metadata": {
        "id": "TlY91OomrRed"
      },
      "source": [
        "### GUI"
      ]
    },
    {
      "cell_type": "code",
      "metadata": {
        "colab": {
          "base_uri": "https://localhost:8080/",
          "height": 61,
          "referenced_widgets": [
            "9daf580d601a4dcdb5b0577d9eac1a8b",
            "70ff486d8179412ca1fc794825ea79c2",
            "6adadd2eb83241a1be9a868dd116f877"
          ]
        },
        "id": "ozEWhSh4rJFt",
        "outputId": "23fd8cdd-0ff6-490b-fde5-aa9c2b695191"
      },
      "source": [
        "import ipywidgets as widgets\n",
        "from IPython import display\n",
        "\n",
        "input_box = widgets.Text(\n",
        "    placeholder='Press enter to evaluate',\n",
        "    description='Input:',\n",
        "    display='flex',\n",
        "    align_items='stretch',\n",
        "    flex_flow='column',\n",
        "    layout = widgets.Layout(width='auto', height='40px'),\n",
        "    disabled=False\n",
        ")\n",
        "\n",
        "def on_submit(widget):\n",
        "  display.clear_output()\n",
        "  display.display(input_box)\n",
        "\n",
        "  value = widget.value.strip()\n",
        "  print('Input:', value)\n",
        "  generate(value)\n",
        "\n",
        "input_box.on_submit(on_submit)\n",
        "display.display(input_box)"
      ],
      "execution_count": 22,
      "outputs": [
        {
          "output_type": "display_data",
          "data": {
            "application/vnd.jupyter.widget-view+json": {
              "model_id": "9daf580d601a4dcdb5b0577d9eac1a8b",
              "version_minor": 0,
              "version_major": 2
            },
            "text/plain": [
              "Text(value='', description='Input:', layout=Layout(height='40px', width='auto'), placeholder='Press enter to e…"
            ]
          },
          "metadata": {
            "tags": []
          }
        }
      ]
    }
  ]
}