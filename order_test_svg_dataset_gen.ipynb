{
  "nbformat": 4,
  "nbformat_minor": 0,
  "metadata": {
    "colab": {
      "name": "order_test_svg_dataset_gen.ipynb",
      "provenance": [],
      "collapsed_sections": []
    },
    "kernelspec": {
      "name": "python3",
      "display_name": "Python 3"
    },
    "language_info": {
      "name": "python"
    }
  },
  "cells": [
    {
      "cell_type": "markdown",
      "metadata": {
        "id": "5gRoThw-QfXd"
      },
      "source": [
        "**SVG dataset generator**"
      ]
    },
    {
      "cell_type": "markdown",
      "metadata": {
        "id": "2qK_vzYkQZAN"
      },
      "source": [
        "Install dependencies"
      ]
    },
    {
      "cell_type": "code",
      "metadata": {
        "id": "gdMGt2OxQ_Ng"
      },
      "source": [
        "!pip3 install -q drawSvg"
      ],
      "execution_count": null,
      "outputs": []
    },
    {
      "cell_type": "code",
      "metadata": {
        "id": "ZB_9-Uv0Reh4"
      },
      "source": [
        "import re\n",
        "import numpy as np\n",
        "import drawSvg as draw\n",
        "import pandas as pd\n",
        "from IPython import display"
      ],
      "execution_count": null,
      "outputs": []
    },
    {
      "cell_type": "markdown",
      "metadata": {
        "id": "gDwUrRSpQ7Xy"
      },
      "source": [
        "Parameters"
      ]
    },
    {
      "cell_type": "code",
      "metadata": {
        "id": "ft4AVHJOQ7Nz"
      },
      "source": [
        "canvas_size = np.array([200, 200])\n",
        "\n",
        "class Rectangle:\n",
        "  def as_object(self, center, size, color, order):\n",
        "    return draw.Rectangle(*(center - (np.array(size) / 2).astype(int)), *size, fill=color, stroke_width=order)\n",
        "\n",
        "class Circle:\n",
        "  def as_object(self, center, size, color, order):\n",
        "    return draw.Circle(*center, int(size[0] / 2.), fill=color, stroke_width=order)\n",
        "\n",
        "shapes = {\n",
        "    'rectangle': Rectangle(),\n",
        "    'circle': Circle()\n",
        "}\n",
        "\n",
        "colors = {\n",
        "  'red': (255, 0, 0),\n",
        "  'blue': (0, 0, 255),\n",
        "  'green': (0, 255, 0),\n",
        "  'yellow': (255, 255, 0),\n",
        "  'cyan': (0, 255, 255),\n",
        "  'pink': (255, 0, 255),\n",
        "  'purple': (128, 0, 128),\n",
        "  'orange': (255, 165, 0),\n",
        "  'gray': (128, 128, 128),\n",
        "  'black': (0, 0, 0)\n",
        "}\n",
        "\n",
        "sizes = {\n",
        "  'tiny': .05 * canvas_size,\n",
        "  'small': .1 * canvas_size,\n",
        "  'medium': .3 * canvas_size,\n",
        "  'large': .5 * canvas_size\n",
        "}\n",
        "\n",
        "horizontal_positions = {\n",
        "  'left': (.16 * canvas_size[0], 0),\n",
        "  'center': (.5 * canvas_size[0], 0),\n",
        "  'right': (.84 * canvas_size[0], 0),\n",
        "  '': (.5 * canvas_size[0], 0)\n",
        "}\n",
        "\n",
        "vertical_positions = {\n",
        "  'top': (0, .84 * canvas_size[1]),\n",
        "  'center': (0, .5 * canvas_size[1]),\n",
        "  'bottom': (0, .16 * canvas_size[1]),\n",
        "  '': (0, .5 * canvas_size[1])\n",
        "}\n",
        "\n",
        "OTHER_DIM = (.9, 1.1)\n",
        "\n",
        "def to_left(pos1, size1, size2):\n",
        "  x2 = pos1[0] - (size1[0] // 2 + size2[0] // 2)\n",
        "  return (x2 - np.random.randint(0, max(1, x2)), int(pos1[1] * np.random.uniform(*OTHER_DIM)))\n",
        "\n",
        "def to_right(pos1, size1, size2):\n",
        "  x2 = pos1[0] + (size1[0] // 2 + size2[0] // 2)\n",
        "  return (x2 + np.random.randint(0, max(1, (canvas_size[0] - x2) + 1)), int(pos1[1] * np.random.uniform(*OTHER_DIM)))\n",
        "\n",
        "def below(pos1, size1, size2):\n",
        "  y2 = pos1[1] - (size1[1] // 2 + size2[1] // 2)\n",
        "  return (int(pos1[0] * np.random.uniform(*OTHER_DIM)), y2 - np.random.randint(0, max(1, y2)))\n",
        "\n",
        "def above(pos1, size1, size2):\n",
        "  y2 = pos1[1] + (size1[1] // 2 + size2[1] // 2)\n",
        "  return (int(pos1[0] * np.random.uniform(*OTHER_DIM)), y2 + np.random.randint(0, max(1, (canvas_size[1] - y2) + 1)))\n",
        "\n",
        "position_relations = {\n",
        "  'to left': to_left,\n",
        "  'to right': to_right,\n",
        "  'below': below,\n",
        "  'above': above\n",
        "  # 'near': \n",
        "}\n",
        "\n",
        "overlap_relations = {\n",
        "    'in front': lambda a: a.order + 1,\n",
        "    'behind': lambda a: a.order - 1\n",
        "}\n",
        "\n",
        "class Params:\n",
        "  def __init__(self, shape, x, y, size, color, order):\n",
        "    self.shape = shape\n",
        "    self.x = list(x)\n",
        "    self.y = list(y)\n",
        "    self.size = size\n",
        "    self.color = color\n",
        "    self.order = 0\n",
        "\n",
        "    self.adjectives = ' '.join(self.shuffle_adjectives())\n",
        "\n",
        "  def shuffle_adjectives(self):\n",
        "      adjectives = [self.color[0], np.random.choice(size_synonyms[self.size[0]])]\n",
        "      np.random.shuffle(adjectives)\n",
        "      return adjectives\n",
        "\n",
        "  @staticmethod\n",
        "  def fromKeys(shape='rectangle', x='center', y='center', size='medium', color='black'):\n",
        "    return Params((shape, shapes[shape]), (x, horizontal_positions[x]),\n",
        "                  (y, vertical_positions[y]), (size, sizes[size]), (color, colors[color]), order=0)\n",
        "\n",
        "class ObjParam:\n",
        "  def __init__(self, drawable, position, size, color, order):\n",
        "    self.drawable = drawable\n",
        "    self.position = position\n",
        "    self.size = size\n",
        "    self.color = color\n",
        "    self.order = order"
      ],
      "execution_count": null,
      "outputs": []
    },
    {
      "cell_type": "markdown",
      "metadata": {
        "id": "tjhDJo2UQ3c9"
      },
      "source": [
        "Synonyms"
      ]
    },
    {
      "cell_type": "code",
      "metadata": {
        "id": "4yOKh1ALQ3Gn"
      },
      "source": [
        "size_synonyms = {\n",
        "    'tiny': ['tiny', 'mini', 'toy'],\n",
        "    'small': ['small', 'little'],\n",
        "    'medium': ['medium', 'average', 'normal'],\n",
        "    'large': ['large', 'big', 'huge']\n",
        "}\n",
        "\n",
        "vertical_positions_synonyms = {\n",
        "  'top': ['top', 'upper'],\n",
        "  'center': ['center', 'middle'],\n",
        "  'bottom': ['bottom', 'lower'],\n",
        "  '': ['']\n",
        "}\n",
        "\n",
        "conjunction_synonyms = [' and', ',']"
      ],
      "execution_count": null,
      "outputs": []
    },
    {
      "cell_type": "markdown",
      "metadata": {
        "id": "8qeZUyuqRFaV"
      },
      "source": [
        "Labels generation"
      ]
    },
    {
      "cell_type": "code",
      "metadata": {
        "id": "gJw1SZo9RKvD"
      },
      "source": [
        "def make_label_with_position(params):\n",
        "  vpos = np.random.choice(vertical_positions_synonyms[params.y[0]])\n",
        "  pos = f'{vpos} {params.x[0]}' if params.y[0] != params.x[0] else vpos\n",
        "  pos = pos.strip()\n",
        "  pronoun = 'in' if pos != '' else ''\n",
        "\n",
        "  return f'{make_label(params)} {pronoun} {pos}'.strip()\n",
        "\n",
        "def make_label_with_relation(params, relation):\n",
        "  return f'{make_label(params)} {relation[0]}'\n",
        "\n",
        "def make_label(params):\n",
        "  return f'{params.adjectives} {params.shape[0]}'\n",
        "\n",
        "def generate_label(params, relations, targets, adjecent):\n",
        "  assert len(params) == len(relations) == len(targets) == len(adjecent)\n",
        "\n",
        "  label = f'{make_label_with_position(params[0])}'\n",
        "  for i in range(1, len(params)):\n",
        "    if adjecent[i]:\n",
        "      label += f'{np.random.choice(conjunction_synonyms)} {make_label_with_relation(params[i], relations[i])}'\n",
        "      if np.random.uniform(0, 1) > .5:\n",
        "        label += f' {make_label(targets[i])}'\n",
        "    else:\n",
        "      label += f'{np.random.choice(conjunction_synonyms)} {make_label_with_relation(params[i], relations[i])} {make_label(targets[i])}'\n",
        "\n",
        "  return label"
      ],
      "execution_count": null,
      "outputs": []
    },
    {
      "cell_type": "markdown",
      "metadata": {
        "id": "UchoAMBTROk5"
      },
      "source": [
        "Object generation"
      ]
    },
    {
      "cell_type": "code",
      "metadata": {
        "id": "YjDVyuB5RRBn"
      },
      "source": [
        "def random_pair(pairs):\n",
        "  return list(pairs.items())[np.random.randint(0, len(pairs))]\n",
        "\n",
        "def random_params():\n",
        "  color = random_pair(colors)\n",
        "  size = random_pair(sizes)\n",
        "  shape = random_pair(shapes)\n",
        "  hpos = random_pair(horizontal_positions)\n",
        "  vpos = random_pair(vertical_positions)\n",
        "\n",
        "  return Params(shape, hpos, vpos, size, color, 0)\n",
        "\n",
        "def make_object_from_params(params, rand_pos=True):\n",
        "  def rand_n(values, low, high):\n",
        "    return [int(value + np.random.uniform(low=low * modifier, high=high * modifier)) for value, modifier in zip(values, canvas_size)]\n",
        "\n",
        "  def rand_rgb(color):\n",
        "    return np.clip(color + np.random.randint(-15, 15 + 1, size=3), 0, 255)\n",
        "\n",
        "  position = rand_n(np.sum([params.x[1], params.y[1]], axis=0), -.05, .05) if rand_pos else np.sum([params.x[1], params.y[1]], axis=0)\n",
        "  size = rand_n(params.size[1], -.02, .02)\n",
        "  color = f'rgb{tuple(rand_rgb(params.color[1]))}'\n",
        "\n",
        "  return ObjParam(params.shape[1].as_object(position, size, color, params.order), position, size, color, params.order)\n",
        "\n",
        "def convert_to_code(canvas):\n",
        "  svg = re.sub('\\n', '', canvas.asSvg())\n",
        "  svg = re.sub('^.*</defs>', '', svg)\n",
        "  return re.sub('</svg>', '', svg)\n",
        "\n",
        "def apply_relation(object1, params2, relation):\n",
        "  new_position = relation[1](object1.position, object1.size, params2.size[1])\n",
        "  return apply_new_position(object1, params2, new_position)\n",
        "\n",
        "def apply_new_position(object1, params2, new_position):\n",
        "  params2.x[1] = (np.clip(int(new_position[0]), 0, canvas_size[0]), 0)\n",
        "  params2.y[1] = (0, np.clip(int(new_position[1]), 0, canvas_size[1]))\n",
        "  return params2\n",
        "\n",
        "def generate_objects(canvas, n):\n",
        "  # 'to_left' -> obj2 to the left of obj1\n",
        "  # 'above' -> obj2 above the obj1\n",
        "  params = [random_params() for i in range(n)]\n",
        "\n",
        "  object1 = make_object_from_params(params[0])\n",
        "\n",
        "  objects = [object1]\n",
        "  relations = [None]\n",
        "  targets = [None]\n",
        "  adjecent = [None]\n",
        "  for i in range(1, n):\n",
        "    target_index = np.random.randint(0, len(objects))\n",
        "    adjecent.append(target_index == len(objects) - 1)\n",
        "    targets.append(params[target_index])\n",
        "\n",
        "    is_x_y = np.random.uniform(0, 1) > .5\n",
        "\n",
        "    if is_x_y:\n",
        "      xyrelation = random_pair(position_relations)\n",
        "      relations.append(xyrelation)\n",
        "\n",
        "      apply_relation(objects[target_index], params[i], xyrelation)\n",
        "      objects.append(make_object_from_params(params[i], False))\n",
        "    else:\n",
        "      zrelation = random_pair(overlap_relations)\n",
        "      relations.append(zrelation)\n",
        "\n",
        "      apply_new_position(objects[target_index], params[i], objects[target_index].position)\n",
        "\n",
        "      params[i].order = zrelation[1](objects[target_index])\n",
        "      objects.append(make_object_from_params(params[i], False))\n",
        "\n",
        "  objects.reverse()\n",
        "  for obj in objects:\n",
        "    canvas.append(obj.drawable)\n",
        "\n",
        "  X = generate_label(params, relations, targets, adjecent)\n",
        "  y = convert_to_code(canvas)\n",
        "  return X, y"
      ],
      "execution_count": null,
      "outputs": []
    },
    {
      "cell_type": "markdown",
      "metadata": {
        "id": "B-7EfAV7Re4f"
      },
      "source": [
        "Canvas creation"
      ]
    },
    {
      "cell_type": "code",
      "metadata": {
        "colab": {
          "base_uri": "https://localhost:8080/",
          "height": 255
        },
        "id": "lvXUW6wqRemc",
        "outputId": "8060c67d-5373-47cc-d3a3-2345c105525c"
      },
      "source": [
        "def make_canvas():\n",
        "  canvas = draw.Drawing(*canvas_size, displayInline=False)\n",
        "  # canvas.append(draw.Rectangle(0, 0, *canvas_size, fill='white', stroke_width=2, stroke='black')) # For display purposes\n",
        "  return canvas\n",
        "\n",
        "canvasx = make_canvas()\n",
        "\n",
        "X, y = generate_objects(canvasx, 2)\n",
        "print('X:', X, '\\ny:', y)\n",
        "canvasx"
      ],
      "execution_count": null,
      "outputs": [
        {
          "output_type": "stream",
          "text": [
            "X: small purple circle in left, red tiny rectangle in front small purple circle \n",
            "y: <rect x=\"33\" y=\"-112\" width=\"12\" height=\"13\" fill=\"rgb(251, 9, 0)\" stroke-width=\"1\" /><circle cx=\"39\" cy=\"-105\" r=\"11\" fill=\"rgb(119, 2, 140)\" stroke-width=\"0\" />\n"
          ],
          "name": "stdout"
        },
        {
          "output_type": "execute_result",
          "data": {
            "text/html": [
              "<img src=\"data:image/svg+xml;base64,PD94bWwgdmVyc2lvbj0iMS4wIiBlbmNvZGluZz0iVVRGLTgiPz4KPHN2ZyB4bWxucz0iaHR0cDovL3d3dy53My5vcmcvMjAwMC9zdmciIHhtbG5zOnhsaW5rPSJodHRwOi8vd3d3LnczLm9yZy8xOTk5L3hsaW5rIgogICAgIHdpZHRoPSIyMDAiIGhlaWdodD0iMjAwIiB2aWV3Qm94PSIwIC0yMDAgMjAwIDIwMCI+CjxkZWZzPgo8L2RlZnM+CjxyZWN0IHg9IjMzIiB5PSItMTEyIiB3aWR0aD0iMTIiIGhlaWdodD0iMTMiIGZpbGw9InJnYigyNTEsIDksIDApIiBzdHJva2Utd2lkdGg9IjEiIC8+CjxjaXJjbGUgY3g9IjM5IiBjeT0iLTEwNSIgcj0iMTEiIGZpbGw9InJnYigxMTksIDIsIDE0MCkiIHN0cm9rZS13aWR0aD0iMCIgLz4KPC9zdmc+\">"
            ],
            "text/plain": [
              "<drawSvg.drawing.Drawing at 0x7f832998f5d0>"
            ]
          },
          "metadata": {
            "tags": []
          },
          "execution_count": 7
        }
      ]
    },
    {
      "cell_type": "markdown",
      "metadata": {
        "id": "hvyPmTGPhZl_"
      },
      "source": [
        "Tests"
      ]
    },
    {
      "cell_type": "code",
      "metadata": {
        "id": "dpFb0_IfaL8i"
      },
      "source": [
        "assert make_object_from_params(Params.fromKeys(y='top')).position[1] > .5 * canvas_size[1] # Top\n",
        "assert make_object_from_params(Params.fromKeys(y='bottom')).position[1] < .5 * canvas_size[1] # Bottom\n",
        "assert make_object_from_params(Params.fromKeys(x='left')).position[0] < .5 * canvas_size[0] # Left\n",
        "assert make_object_from_params(Params.fromKeys(x='right')).position[0] > .5 * canvas_size[0] # Right\n",
        "\n",
        "obj = make_object_from_params(Params.fromKeys(x='center'))\n",
        "assert apply_relation(obj, Params.fromKeys(), ('to left', position_relations['to left'])).x[1][0] < obj.position[0] # To Left\n",
        "\n",
        "obj = make_object_from_params(Params.fromKeys(x='center'))\n",
        "assert apply_relation(obj, Params.fromKeys(), ('to right', position_relations['to right'])).x[1][0] > obj.position[0] # To Right\n",
        "\n",
        "obj = make_object_from_params(Params.fromKeys(y='center'))\n",
        "assert apply_relation(obj, Params.fromKeys(), ('below', position_relations['below'])).y[1][1] < obj.position[1] # Below\n",
        "\n",
        "obj = make_object_from_params(Params.fromKeys(y='center'))\n",
        "assert apply_relation(obj, Params.fromKeys(), ('above', position_relations['above'])).y[1][1] > obj.position[1] # Above"
      ],
      "execution_count": null,
      "outputs": []
    },
    {
      "cell_type": "markdown",
      "metadata": {
        "id": "04bVQhlic-Sn"
      },
      "source": [
        "Generate dataset"
      ]
    },
    {
      "cell_type": "code",
      "metadata": {
        "id": "pCNiJJ39Ur2A"
      },
      "source": [
        "def generate_dataset(file_name, n):\n",
        "  data = pd.DataFrame(np.random.randn(n, 2), columns=['x', 'y'])\n",
        "  \n",
        "  for i in range(n):\n",
        "    X, y = generate_objects(make_canvas(), np.random.choice([1] * 1 + [2] * 1 + [3] * 3 + [4] * 3)) # Proportions\n",
        "    data.loc[i] = [X, y]\n",
        "\n",
        "  data.to_csv(file_name)\n",
        "\n",
        "SAMPLES = 1500000\n",
        "DATASET_PATH = f'drive/MyDrive/svg/order_svg_dataset_{int(SAMPLES / 1e3)}k.csv'\n",
        "generate_dataset(DATASET_PATH, SAMPLES)"
      ],
      "execution_count": null,
      "outputs": []
    },
    {
      "cell_type": "markdown",
      "metadata": {
        "id": "XmRy7ZrBWg9o"
      },
      "source": [
        "Show SVG"
      ]
    },
    {
      "cell_type": "code",
      "metadata": {
        "colab": {
          "base_uri": "https://localhost:8080/",
          "height": 275
        },
        "id": "aZ4ZBiTLY5_Z",
        "outputId": "131d4a69-1d8b-48ce-b841-53e6de28f48f"
      },
      "source": [
        "import svg_generator\n",
        "\n",
        "def sample_from_dataset(file_name, i):\n",
        "  data = pd.read_csv(file_name)\n",
        "  sample = data.loc[i]\n",
        "  return sample['x'], sample['y']\n",
        "\n",
        "X, y = sample_from_dataset(DATASET_PATH, np.random.randint(0, SAMPLES))\n",
        "print('X:', X, '\\ny:', y)\n",
        "svg_generator.TextGenerator.display_code(y)"
      ],
      "execution_count": null,
      "outputs": [
        {
          "output_type": "stream",
          "text": [
            "X: orange small circle in center, yellow little circle in front orange small circle, big cyan rectangle in front orange small circle \n",
            "y: <rect x=\"58\" y=\"-157\" width=\"99\" height=\"101\" fill=\"rgb(0, 242, 255)\" stroke-width=\"1\" /><circle cx=\"107\" cy=\"-106\" r=\"10\" fill=\"rgb(242, 255, 0)\" stroke-width=\"1\" /><circle cx=\"107\" cy=\"-106\" r=\"9\" fill=\"rgb(255, 165, 0)\" stroke-width=\"0\" />\n"
          ],
          "name": "stdout"
        },
        {
          "output_type": "display_data",
          "data": {
            "text/plain": [
              "<IPython.core.display.SVG object>"
            ],
            "image/svg+xml": "<svg height=\"200\" viewBox=\"0 -200 200 200\" width=\"200\" xmlns=\"http://www.w3.org/2000/svg\" xmlns:xlink=\"http://www.w3.org/1999/xlink\">\n      <rect fill=\"white\" height=\"200\" stroke=\"black\" stroke-width=\"2\" width=\"200\" x=\"0\" y=\"-200\"/>\n      <circle cx=\"107\" cy=\"-106\" fill=\"rgb(255, 165, 0)\" r=\"9\" stroke-width=\"0\"/><circle cx=\"107\" cy=\"-106\" fill=\"rgb(242, 255, 0)\" r=\"10\" stroke-width=\"1\"/><rect fill=\"rgb(0, 242, 255)\" height=\"101\" stroke-width=\"1\" width=\"99\" x=\"58\" y=\"-157\"/>\n      </svg>"
          },
          "metadata": {
            "tags": []
          }
        }
      ]
    }
  ]
}